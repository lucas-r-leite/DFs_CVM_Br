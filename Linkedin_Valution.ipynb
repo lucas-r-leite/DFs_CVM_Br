{
 "cells": [
  {
   "cell_type": "code",
   "execution_count": null,
   "metadata": {},
   "outputs": [],
   "source": [
    "import matplotlib.pyplot as plt\n",
    "import numpy as np, seaborn as sns\n",
    "\n",
    "sales_yoy_gwth_pct = 0.2\n",
    "sales_yoy_gwth_pct_normal_dist = np.random.normal(loc=sales_yoy_gwth_pct, scale=0.02, size=10000)\n",
    "fig, ax = plt.subplots(figsize=(15,5))\n",
    "plt.title(\"Normal distribution for the Sales YoY Growth Rate(%)\")\n",
    "ax1 = sns.histplot(sales_yoy_gwth_pct_normal_dist, label='normal dist', ax=ax, kde=True, stat='density', linewidth=0)\n",
    "plt.legend()\n",
    "plt.show()"
   ]
  },
  {
   "cell_type": "code",
   "execution_count": null,
   "metadata": {},
   "outputs": [],
   "source": [
    "import pandas as pd\n",
    "\n",
    "years = [2021,2022,2023,2024,2025,2026]\n",
    "df = pd.DataFrame(index=years, columns=['sales', 'int_exp', 'var_nwc'])\n",
    "df.iat[0,0] = 250\n",
    "df.iat[0,1] = -7.5\n",
    "df.iat[0,2] = -3\n",
    "print()\n",
    "for i in range(1, len(years)):\n",
    "    df.loc[df.index[i],'sales'] = df.loc[df.index[i - 1],'sales'] * (1 + 0.2)\n",
    "    df.loc[df.index[i],'int_exp'] = df.loc[df.index[i - 1],'int_exp'] * (1 + 0.2)\n",
    "    df.loc[df.index[i],'var_nwc'] = df.loc[df.index[i - 1],'var_nwc'] * (1 + 0.2)\n",
    "\n",
    "df['cogs'] = -df['sales'] * 0.63\n",
    "df['sga'] = -df['sales'] * 0.15\n",
    "df['dep_amort'] = -df['sales'] * 0.015\n",
    "df['profit_bef_tax'] = (df['sales'] + df['cogs'] + df['sga'] + df['dep_amort'] + df['int_exp'])\n",
    "df['tax'] = -df['profit_bef_tax'] * 0.33\n",
    "df['net_income'] = df['profit_bef_tax'] + df['tax']\n",
    "df['capex'] = df['dep_amort'] * 1\n",
    "df['fcf'] = df['net_income'] - df['int_exp'] - df['dep_amort'] + df['var_nwc'] + df['capex']\n",
    "\n",
    "wacc = 0.09\n",
    "perp_gwth_rate = 0.015\n",
    "dfc_factor = [1/(1 + wacc) ** x for x in range(1, len(years))]\n",
    "term_value = (df['fcf'].iloc[-1] * (1 + perp_gwth_rate) / (wacc - perp_gwth_rate)) * dfc_factor[-1]\n",
    "\n",
    "npv = df['fcf'][1:] * dfc_factor\n",
    "comp_value = npv.sum() + term_value\n",
    "comp_value"
   ]
  }
 ],
 "metadata": {
  "kernelspec": {
   "display_name": "Python 3",
   "language": "python",
   "name": "python3"
  },
  "language_info": {
   "codemirror_mode": {
    "name": "ipython",
    "version": 3
   },
   "file_extension": ".py",
   "mimetype": "text/x-python",
   "name": "python",
   "nbconvert_exporter": "python",
   "pygments_lexer": "ipython3",
   "version": "3.11.2"
  },
  "orig_nbformat": 4
 },
 "nbformat": 4,
 "nbformat_minor": 2
}
